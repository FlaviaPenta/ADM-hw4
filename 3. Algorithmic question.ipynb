{
 "cells": [
  {
   "cell_type": "markdown",
   "metadata": {},
   "source": [
    "# 3. Algorithmic Question"
   ]
  },
  {
   "cell_type": "markdown",
   "metadata": {},
   "source": [
    "### Initialization"
   ]
  },
  {
   "cell_type": "code",
   "execution_count": 1,
   "metadata": {},
   "outputs": [],
   "source": [
    "import random\n",
    "def initialize(n):\n",
    "    print(\"Number of Integer Numbers : \", n)\n",
    "    A = [random.randint(0,1000) for i in range(n)] # We form a list of n random numbers between 0 and 1000\n",
    "    print(\"A = \",A)\n",
    "    s = min(A)\n",
    "    b = max(A)\n",
    "    r = b-s\n",
    "    print(\"s = min(A) = \",s )\n",
    "    print(\"b = max(A) = \", b)\n",
    "    print(\"r = b-s = \", r)\n",
    "    return A"
   ]
  },
  {
   "cell_type": "code",
   "execution_count": 2,
   "metadata": {},
   "outputs": [
    {
     "name": "stdout",
     "output_type": "stream",
     "text": [
      "Number of Integer Numbers :  10\n",
      "A =  [281, 765, 446, 411, 884, 23, 588, 635, 409, 722]\n",
      "s = min(A) =  23\n",
      "b = max(A) =  884\n",
      "r = b-s =  861\n"
     ]
    }
   ],
   "source": [
    "A = initialize(10)"
   ]
  },
  {
   "cell_type": "markdown",
   "metadata": {},
   "source": [
    "### Sorting"
   ]
  },
  {
   "cell_type": "code",
   "execution_count": 3,
   "metadata": {},
   "outputs": [],
   "source": [
    "def sorter(A):\n",
    "\n",
    "    S = []\n",
    "    complexity = 0\n",
    "\n",
    "    for integer in range(min(A), max(A)):  # We enter r times in this for loop\n",
    "\n",
    "        complexity += 1\n",
    "\n",
    "        if integer in A:  # We enter n times in this if statement\n",
    "\n",
    "            complexity += 1\n",
    "\n",
    "            S.append(integer)\n",
    "        \n",
    "\n",
    "    complexity += 1\n",
    "    S.append(max(A))\n",
    "            \n",
    "    return S, complexity"
   ]
  },
  {
   "cell_type": "code",
   "execution_count": 4,
   "metadata": {},
   "outputs": [
    {
     "name": "stdout",
     "output_type": "stream",
     "text": [
      "Sorted A :  [23, 281, 409, 411, 446, 588, 635, 722, 765, 884]\n"
     ]
    }
   ],
   "source": [
    "print(\"Sorted A : \", sorter(A)[0])"
   ]
  },
  {
   "cell_type": "raw",
   "metadata": {},
   "source": [
    "for integer in range(min(A), max(A)):\n",
    "\n",
    "        complexity += 1"
   ]
  },
  {
   "cell_type": "markdown",
   "metadata": {},
   "source": [
    "The for loop goes from $min(A)$ to $max(A)$, so k takes $ max(A) - min(A) = r $ values.\n",
    "<br>\n",
    "At this point, the complexity of the sorting is $ O(r) $\n",
    "<br>"
   ]
  },
  {
   "cell_type": "raw",
   "metadata": {},
   "source": [
    "if integer in A:\n",
    "\n",
    "            complexity += 1\n",
    "            S.append(integer)"
   ]
  },
  {
   "cell_type": "markdown",
   "metadata": {},
   "source": [
    "The if condition below this loop is entered only when $ k \\in A $. Since $A \\subset k$, this if condition is entered n times during the program.\n",
    "<br>\n",
    "At this point, the complexity of the sorting is then $ O(n+r) $"
   ]
  },
  {
   "cell_type": "raw",
   "metadata": {},
   "source": [
    "S.append(max(A))"
   ]
  },
  {
   "cell_type": "markdown",
   "metadata": {},
   "source": [
    "Finally we know $ max(A) \\in A $ so since k didn't reach $max(A)$ we can just add it to our list after the loop."
   ]
  },
  {
   "cell_type": "markdown",
   "metadata": {},
   "source": [
    "We can check this result by printing the complexity counter implemented in our sorter() function and comparing it with the value of  $r+n$:"
   ]
  },
  {
   "cell_type": "code",
   "execution_count": 5,
   "metadata": {},
   "outputs": [
    {
     "name": "stdout",
     "output_type": "stream",
     "text": [
      "r =  861\n",
      "n =  10\n",
      "r+n =  871\n",
      "Complexity :  O(871)\n"
     ]
    }
   ],
   "source": [
    "s = min(A)\n",
    "b = max(A)\n",
    "r = b-s\n",
    "print(\"r = \", r)\n",
    "print(\"n = \", len(A))\n",
    "print(\"r+n = \", r+len(A))\n",
    "print(\"Complexity :  O(\" + str(sorter(A)[1]) + ')')"
   ]
  },
  {
   "cell_type": "code",
   "execution_count": null,
   "metadata": {},
   "outputs": [],
   "source": []
  }
 ],
 "metadata": {
  "kernelspec": {
   "display_name": "Python 3",
   "language": "python",
   "name": "python3"
  },
  "language_info": {
   "codemirror_mode": {
    "name": "ipython",
    "version": 3
   },
   "file_extension": ".py",
   "mimetype": "text/x-python",
   "name": "python",
   "nbconvert_exporter": "python",
   "pygments_lexer": "ipython3",
   "version": "3.8.3"
  }
 },
 "nbformat": 4,
 "nbformat_minor": 4
}
