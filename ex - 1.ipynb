{
 "cells": [
  {
   "cell_type": "code",
   "execution_count": null,
   "metadata": {},
   "outputs": [],
   "source": [
    "import numpy as np\n",
    "from scipy import integrate"
   ]
  },
  {
   "cell_type": "code",
   "execution_count": 99,
   "metadata": {},
   "outputs": [],
   "source": [
    "def hash1(s):\n",
    "    mod=1000000009\n",
    "    result=0\n",
    "    a=37\n",
    "    for c in s:\n",
    "        if c!=' ':\n",
    "            result += (ord(c.strip())*a)\n",
    "            a=a+3\n",
    "        else: \n",
    "            pass\n",
    "    return result % mod"
   ]
  },
  {
   "cell_type": "code",
   "execution_count": 267,
   "metadata": {},
   "outputs": [],
   "source": [
    "#return the binary number, which the lenght is =32\n",
    "def my_bin(n):\n",
    "    return '{0:032b}'.format(n)"
   ]
  },
  {
   "cell_type": "code",
   "execution_count": 176,
   "metadata": {},
   "outputs": [],
   "source": [
    "def leftmost_binary_1_position(binary_string):\n",
    "    result=str(binary_string).find('1')\n",
    "    if result!=-1:\n",
    "        return result+1\n",
    "    else:\n",
    "        return len(str(binary_string))+1"
   ]
  },
  {
   "cell_type": "code",
   "execution_count": null,
   "metadata": {},
   "outputs": [],
   "source": [
    "\n",
    "def hyper_log_log1(numbers, b=10):\n",
    "    m = 2 ** b\n",
    "    collection_M = [0] * m\n",
    "\n",
    "    for v in numbers:\n",
    "        x=my_bin(hash1(v))\n",
    "        #j = x & (m - 1)\n",
    "        #j=int(x[:b])+1 \n",
    "        j = 1+int(x[:b],2)\n",
    "\n",
    "        #w = x >> b        \n",
    "        w=x[b:]\n",
    "        collection_M[int(j)]=max(collection_M[int(j)], leftmost_binary_1_position(w))\n",
    "        \n",
    "        \n",
    "    invexp = lambda u: (np.log2((2+u)/(1+u)))**m\n",
    "    a_m=integrate.quad(invexp, 0, np.inf)[0]   \n",
    "    #a_m = 0.7213 / (1 + 1.079 / m)\n",
    "    summ=0\n",
    "    for Mj in collection_M:\n",
    "        summ+=2**(-Mj)\n",
    "    \n",
    "    return a_m * (m ** 2) * (summ ** (-1))\n",
    "    "
   ]
  },
  {
   "cell_type": "code",
   "execution_count": null,
   "metadata": {},
   "outputs": [],
   "source": [
    "\n",
    "def hyper_log_log(numbers, b=10):\n",
    "    m = 2 ** b\n",
    "    collection_M = [0] * m\n",
    "\n",
    "    for v in numbers:\n",
    "        x = my_bin(hash1(v))\n",
    "        j=1+int(x[:b],2)\n",
    "        w=x[b:]\n",
    "        collection_M[int(j)]=max(collection_M[int(j)], leftmost_binary_1_position(w))\n",
    "        \n",
    "        \n",
    "    a_m = 0.7213 / (1 + 1.079 / m)\n",
    "    summ=0\n",
    "    for Mj in collection_M:\n",
    "        summ+=2**(-Mj)\n",
    "    \n",
    "    \n",
    "    \n",
    "    E=a_m * (m ** 2) * (summ ** (-1))\n",
    "    \n",
    "    if E < ((5 / 2.0)* m):\n",
    "        V=0\n",
    "        for Mj in collection_M:\n",
    "            if Mj==0:\n",
    "                V+=1\n",
    "        if V!=0:\n",
    "            E=m * np.log(m / float(V))\n",
    "        elif E > (1 / 30.0) * 2 ** 32:\n",
    "            E = -(2 ** 32) * np.log(1 - (E / 2 ** 32))\n",
    "            \n",
    "    return E"
   ]
  }
 ],
 "metadata": {
  "kernelspec": {
   "display_name": "Python 3",
   "language": "python",
   "name": "python3"
  },
  "language_info": {
   "codemirror_mode": {
    "name": "ipython",
    "version": 3
   },
   "file_extension": ".py",
   "mimetype": "text/x-python",
   "name": "python",
   "nbconvert_exporter": "python",
   "pygments_lexer": "ipython3",
   "version": "3.8.3"
  }
 },
 "nbformat": 4,
 "nbformat_minor": 4
}
