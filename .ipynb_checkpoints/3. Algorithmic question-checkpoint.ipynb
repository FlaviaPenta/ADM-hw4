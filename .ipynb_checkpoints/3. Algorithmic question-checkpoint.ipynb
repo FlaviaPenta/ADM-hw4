{
 "cells": [
  {
   "cell_type": "markdown",
   "metadata": {},
   "source": [
    "# 3. Algorithmic Question"
   ]
  },
  {
   "cell_type": "markdown",
   "metadata": {},
   "source": [
    "#### Initialization"
   ]
  },
  {
   "cell_type": "code",
   "execution_count": 48,
   "metadata": {},
   "outputs": [],
   "source": [
    "import random\n",
    "def initialize(n):\n",
    "    print(\"Number of Integer Numbers : \", n)\n",
    "    A = [random.randint(0,1000) for i in range(n)] # We form a list of n random numbers between 0 and 1000\n",
    "    print(\"A = \",A)\n",
    "    s = min(A)\n",
    "    b = max(A)\n",
    "    r = b-s\n",
    "    print(\"s = min(A) = \",s )\n",
    "    print(\"b = max(A) = \", b)\n",
    "    print(\"r = b-s = \", r)\n",
    "    return A"
   ]
  },
  {
   "cell_type": "code",
   "execution_count": 49,
   "metadata": {},
   "outputs": [
    {
     "name": "stdout",
     "output_type": "stream",
     "text": [
      "Number of Integer Numbers :  10\n",
      "A =  [97, 191, 621, 782, 870, 40, 471, 183, 604, 294]\n",
      "s = min(A) =  40\n",
      "b = max(A) =  870\n",
      "r = b-s =  830\n"
     ]
    }
   ],
   "source": [
    "A = initialize(10)"
   ]
  },
  {
   "cell_type": "markdown",
   "metadata": {},
   "source": [
    "#### Sorting"
   ]
  },
  {
   "cell_type": "code",
   "execution_count": 53,
   "metadata": {},
   "outputs": [],
   "source": [
    "def sorter(A):\n",
    "\n",
    "    S = []\n",
    "    complexity = 0\n",
    "\n",
    "    for integer in range(min(A), max(A)+1):  # We enter r times in this for loop\n",
    "\n",
    "        complexity += 1\n",
    "\n",
    "        if integer in A:  # We enter n times in this if statement\n",
    "\n",
    "            complexity += 1\n",
    "\n",
    "            S.append(integer)\n",
    "            \n",
    "    return S, complexity"
   ]
  },
  {
   "cell_type": "code",
   "execution_count": 62,
   "metadata": {},
   "outputs": [
    {
     "name": "stdout",
     "output_type": "stream",
     "text": [
      "Sorted A :  [40, 97, 183, 191, 294, 471, 604, 621, 782, 870]\n"
     ]
    }
   ],
   "source": [
    "print(\"Sorted A : \", sorter(A)[0])"
   ]
  },
  {
   "cell_type": "raw",
   "metadata": {},
   "source": [
    "for integer in range(min(A), max(A)+1):\n",
    "\n",
    "        complexity += 1"
   ]
  },
  {
   "cell_type": "markdown",
   "metadata": {},
   "source": [
    "The for loop goes from $min(A)$ to $max(A)+1$, so k takes $ max(A)+1 - min(A) = r+1 $ values.\n",
    "<br>\n",
    "At this point, the complexity of the sorting is $ O(r+1) $\n",
    "<br>"
   ]
  },
  {
   "cell_type": "raw",
   "metadata": {},
   "source": [
    "if integer in A:\n",
    "\n",
    "            complexity += 1\n",
    "            S.append(integer)"
   ]
  },
  {
   "cell_type": "markdown",
   "metadata": {},
   "source": [
    "The if condition below this loop is entered only when $ k \\in A $. Since $A \\subset k$, this if condition is entered n times during the program.\n",
    "<br>\n",
    "At this point, the complexity of the sorting is then $ O(n+r+1) $"
   ]
  },
  {
   "cell_type": "markdown",
   "metadata": {},
   "source": [
    "We can check this result by printing the complexity counter implemented in our sorter() function and comparing it with the value of  $r+n+1$:"
   ]
  },
  {
   "cell_type": "code",
   "execution_count": 69,
   "metadata": {},
   "outputs": [
    {
     "name": "stdout",
     "output_type": "stream",
     "text": [
      "r =  830\n",
      "n =  10\n",
      "r+n+1 =  841\n",
      "Complexity :  O(841)\n"
     ]
    }
   ],
   "source": [
    "s = min(A)\n",
    "b = max(A)\n",
    "r = b-s\n",
    "print(\"r = \", r)\n",
    "print(\"n = \", len(A))\n",
    "print(\"r+n+1 = \", r+len(A)+1)\n",
    "print(\"Complexity :  O(\" + str(sorter(A)[1]) + ')')"
   ]
  },
  {
   "cell_type": "code",
   "execution_count": null,
   "metadata": {},
   "outputs": [],
   "source": []
  }
 ],
 "metadata": {
  "kernelspec": {
   "display_name": "Python 3",
   "language": "python",
   "name": "python3"
  },
  "language_info": {
   "codemirror_mode": {
    "name": "ipython",
    "version": 3
   },
   "file_extension": ".py",
   "mimetype": "text/x-python",
   "name": "python",
   "nbconvert_exporter": "python",
   "pygments_lexer": "ipython3",
   "version": "3.8.3"
  }
 },
 "nbformat": 4,
 "nbformat_minor": 4
}
