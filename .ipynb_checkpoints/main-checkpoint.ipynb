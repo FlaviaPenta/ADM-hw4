{
 "cells": [
  {
   "cell_type": "markdown",
   "metadata": {},
   "source": [
    "# Homework 4 - Hard coding"
   ]
  },
  {
   "cell_type": "markdown",
   "metadata": {},
   "source": [
    "**Goal of the homework**: write important algorithms and functions from scratch."
   ]
  },
  {
   "cell_type": "markdown",
   "metadata": {},
   "source": [
    "## 1. Hashing"
   ]
  },
  {
   "cell_type": "code",
   "execution_count": null,
   "metadata": {},
   "outputs": [],
   "source": [
    "import math\n",
    "import numpy as np"
   ]
  },
  {
   "cell_type": "markdown",
   "metadata": {},
   "source": [
    "We will refer to hash.txt file."
   ]
  },
  {
   "cell_type": "markdown",
   "metadata": {},
   "source": [
    "We will implement our **hash** functions and the **HyperLogLog (HLL)** algorithm in order to know (or at least estimate) the cardinality of our dataset hash.txt."
   ]
  },
  {
   "cell_type": "markdown",
   "metadata": {},
   "source": [
    "#### 1.1 Let's implement our hash function from scratch"
   ]
  },
  {
   "cell_type": "code",
   "execution_count": null,
   "metadata": {},
   "outputs": [],
   "source": [
    "def hash3(s, max_bit=32):\n",
    "    max_value = 1 << max_bit\n",
    "    l = len(s)\n",
    "    result = 0\n",
    "    for i in range(l):\n",
    "        result += (s[i] ** (i+1))\n",
    "        result %= max_value\n",
    "    return result\n"
   ]
  },
  {
   "cell_type": "markdown",
   "metadata": {},
   "source": [
    "#### 1.2 Using our hash function, let's implement a HyperLogLog structure"
   ]
  },
  {
   "cell_type": "code",
   "execution_count": null,
   "metadata": {},
   "outputs": [],
   "source": [
    "class hyper_log_log2:\n",
    "    def __init__(self, b=16, max_bit=32):\n",
    "        self.b = b\n",
    "        self.m = 2**b\n",
    "        self.max_bit = max_bit\n",
    "        #calculate the constant a_m \n",
    "        self.a_m = 0.7213 / (1+ 1.079 / self.m)\n",
    "        self.collection_M=np.full(self.m,0)\n",
    "        \n",
    "        print(\"The error is equal to: \", (1.04/math.sqrt(self.m)))\n",
    "        \n",
    "    def insertion(self, s):\n",
    "        #generate an hash value\n",
    "        x = hash3(s)\n",
    "        \n",
    "        #split x (the hash value) into prefix and sufix\n",
    "        #prefix:\n",
    "        j= x >> (self.max_bit - self.b)\n",
    "        \n",
    "        #sufix:\n",
    "        w = x&2**(self.max_bit - self.b) - 1\n",
    "        \n",
    "        \n",
    "        self.collection_M[j]=max(self.collection_M[j], self.leftmost_binary_1_position(w,maxx_leftmost=self.max_bit-self.b))\n",
    "        \n",
    "        \n",
    "    def leftmost_binary_1_position(self,binary_string,maxx_leftmost):\n",
    "        numb=len(bin(binary_string)[2:])\n",
    "        return maxx_leftmost-numb+1\n",
    "    \n",
    "    def cardinality(self):\n",
    "        summ=np.sum(2.**(-self.collection_M))\n",
    "    \n",
    "        E = self.a_m * (self.m ** 2)/summ\n",
    "        if E < 5.*self.m/2.:\n",
    "            V = (self.collection_M==0).sum()\n",
    "            if V==0:\n",
    "                return E\n",
    "            else:\n",
    "                return self.m*np.log(self.m*1./V)\n",
    "    \n",
    "        return E "
   ]
  },
  {
   "cell_type": "markdown",
   "metadata": {},
   "source": [
    "#### 1.3 Read the dataset and add it to our HyperLogLog"
   ]
  },
  {
   "cell_type": "code",
   "execution_count": 26,
   "metadata": {},
   "outputs": [
    {
     "name": "stdout",
     "output_type": "stream",
     "text": [
      "The error is equal to:  0.0040625\n"
     ]
    },
    {
     "data": {
      "text/plain": [
       "124619088.0199604"
      ]
     },
     "execution_count": 26,
     "metadata": {},
     "output_type": "execute_result"
    }
   ],
   "source": [
    "\n",
    "hyperloglog=hyper_log_log2(16,32)\n",
    "f = open(path, 'rb')\n",
    "\n",
    "\n",
    "for line in f:\n",
    "    line = line[:-1]\n",
    "    hyperloglog.insertion(line)\n",
    "    \n",
    "\n",
    "f.close()\n",
    "\n",
    "hyperloglog.cardinality()\n"
   ]
  },
  {
   "cell_type": "code",
   "execution_count": null,
   "metadata": {},
   "outputs": [],
   "source": []
  },
  {
   "cell_type": "code",
   "execution_count": null,
   "metadata": {},
   "outputs": [],
   "source": []
  }
 ],
 "metadata": {
  "kernelspec": {
   "display_name": "Python 3",
   "language": "python",
   "name": "python3"
  },
  "language_info": {
   "codemirror_mode": {
    "name": "ipython",
    "version": 3
   },
   "file_extension": ".py",
   "mimetype": "text/x-python",
   "name": "python",
   "nbconvert_exporter": "python",
   "pygments_lexer": "ipython3",
   "version": "3.8.3"
  }
 },
 "nbformat": 4,
 "nbformat_minor": 4
}
