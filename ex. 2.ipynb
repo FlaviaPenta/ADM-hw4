{
 "cells": [
  {
   "cell_type": "code",
   "execution_count": null,
   "metadata": {},
   "outputs": [],
   "source": [
    "import warnings\n",
    "warnings.filterwarnings('ignore')\n",
    "import pandas as pd\n",
    "import sklearn\n",
    "import nltk\n",
    "import numpy as np\n",
    "from nltk.stem import WordNetLemmatizer\n",
    "from sklearn.feature_extraction.text import TfidfVectorizer\n",
    "from sklearn.feature_extraction.text import CountVectorizer \n",
    "from sklearn.decomposition import TruncatedSVD\n",
    "from nltk.tokenize import word_tokenize\n",
    "from sklearn import decomposition\n",
    "from nltk.corpus import stopwords\n",
    "from nltk.tokenize import RegexpTokenizer\n",
    "from nltk.stem import PorterStemmer\n",
    "import string \n",
    "import itertools \n",
    "from autocorrect import Speller \n",
    "import enchant\n",
    "from sklearn.cluster import KMeans\n",
    "from tqdm import tqdm\n",
    "import matplotlib.pyplot as plt\n",
    "from kneed import KneeLocator"
   ]
  },
  {
   "cell_type": "code",
   "execution_count": null,
   "metadata": {},
   "outputs": [],
   "source": [
    "dataset = pd.read_csv('C:/Users/Flavia/Desktop/dataset/Reviews.csv')\n",
    "dataset['ProfileName'].fillna(\"\", inplace = True)\n",
    "dataset['Summary'].fillna(\"\", inplace = True)\n",
    "dataset.set_index('Id', inplace = True)"
   ]
  },
  {
   "cell_type": "code",
   "execution_count": null,
   "metadata": {},
   "outputs": [],
   "source": [
    "ps = PorterStemmer()\n",
    "spell = Speller(lang='en')\n",
    "tokenizer = nltk.RegexpTokenizer(r\"\\w+\")\n",
    "stop_words = set(stopwords.words('english'))\n",
    "lemmatizer = WordNetLemmatizer()\n",
    "d = enchant.Dict(\"en_US\")\n",
    "\n",
    "\n",
    "def clean_text(text): \n",
    "    \n",
    "    words = word_tokenize(text)\n",
    "    filtered_words = []\n",
    "    for word in words:\n",
    "         \n",
    "        if d.check(word):\n",
    "            if word.lower() not in stop_words and word.isalpha() and word not in string.punctuation:\n",
    "                filtered_words.append(lemmatizer.lemmatize((ps.stem(word)).lower()))\n",
    "            \n",
    "    return filtered_words"
   ]
  },
  {
   "cell_type": "code",
   "execution_count": null,
   "metadata": {},
   "outputs": [],
   "source": [
    "l=[]\n",
    "j=1\n",
    "for i in list(dataset['Text']):\n",
    "    \n",
    "    l.append(' '.join((clean_text(i))))"
   ]
  },
  {
   "cell_type": "code",
   "execution_count": null,
   "metadata": {},
   "outputs": [],
   "source": [
    "dataset['clean_Text']=l\n",
    "dataset['clean_Text']=dataset['clean_Text'].fillna(\"\", inplace = True)"
   ]
  },
  {
   "cell_type": "code",
   "execution_count": null,
   "metadata": {},
   "outputs": [],
   "source": [
    "dataset['clean_Text'].to_csv('C:/Users/Flavia/Desktop/clean_text.csv')"
   ]
  },
  {
   "cell_type": "code",
   "execution_count": null,
   "metadata": {},
   "outputs": [],
   "source": [
    "df_text = pd.read_csv('C:/Users/Flavia/Desktop/clean_text.csv')\n",
    "df_text['clean_Text'].fillna(\"\", inplace = True)"
   ]
  },
  {
   "cell_type": "code",
   "execution_count": 9,
   "metadata": {},
   "outputs": [
    {
     "data": {
      "text/plain": [
       "KMeans()"
      ]
     },
     "execution_count": 9,
     "metadata": {},
     "output_type": "execute_result"
    }
   ],
   "source": [
    "model = KMeans()\n",
    "model.fit(X_svd)\n",
    "pred = model.fit_predict(X_svd)"
   ]
  },
  {
   "cell_type": "code",
   "execution_count": 26,
   "metadata": {},
   "outputs": [
    {
     "name": "stderr",
     "output_type": "stream",
     "text": [
      "100%|█████████████████████████████████████████████████████████████████████████████████| 11/11 [25:27<00:00, 138.87s/it]\n"
     ]
    }
   ],
   "source": [
    "elbow = {}\n",
    "optimal_score=[]\n",
    "for k in tqdm(range(1, 12)):\n",
    "    elbow_model = KMeans(n_clusters=k)\n",
    "    elbow_model.fit_predict(X_svd)\n",
    "    elbow[k] = elbow_model.inertia_\n",
    "    optimal_score.append(elbow_model.inertia_)"
   ]
  },
  {
   "cell_type": "code",
   "execution_count": 48,
   "metadata": {},
   "outputs": [
    {
     "name": "stdout",
     "output_type": "stream",
     "text": [
      "The optimal number of cluster is:  5\n"
     ]
    },
    {
     "data": {
      "image/png": "[encoded data removed]",
      "text/plain": [
       "<Figure size 432x288 with 1 Axes>"
      ]
     },
     "metadata": {
      "needs_background": "light"
     },
     "output_type": "display_data"
    }
   ],
   "source": [
    "kn = KneeLocator(list(elbow.keys()), list(elbow.values()), curve='convex', direction='decreasing')\n",
    "print('The optimal number of cluster is: ',kn.knee)\n",
    "\n",
    "plt.plot(list(elbow.keys()), list(elbow.values()))\n",
    "plt.vlines(kn.knee, plt.ylim()[0], plt.ylim()[1], linestyles='dashed')\n",
    "plt.show()"
   ]
  }
 ],
 "metadata": {
  "kernelspec": {
   "display_name": "Python 3",
   "language": "python",
   "name": "python3"
  },
  "language_info": {
   "codemirror_mode": {
    "name": "ipython",
    "version": 3
   },
   "file_extension": ".py",
   "mimetype": "text/x-python",
   "name": "python",
   "nbconvert_exporter": "python",
   "pygments_lexer": "ipython3",
   "version": "3.8.3"
  }
 },
 "nbformat": 4,
 "nbformat_minor": 4
}
